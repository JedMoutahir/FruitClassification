{
 "cells": [
  {
   "attachments": {},
   "cell_type": "markdown",
   "metadata": {},
   "source": [
    "# Author: Jed MOUTAHIR\n",
    "# Date: 2023-03-28\n",
    "# Description: This is an attempt to create a machine learning model that can classify images of fruits."
   ]
  },
  {
   "cell_type": "code",
   "execution_count": 10,
   "metadata": {},
   "outputs": [],
   "source": [
    "import os\n",
    "import random\n",
    "import numpy as np\n",
    "import tensorflow as tf\n",
    "from tensorflow.keras.preprocessing.image import ImageDataGenerator\n",
    "from tensorflow.keras.models import Sequential\n",
    "from tensorflow.keras.layers import Conv2D, MaxPooling2D, Flatten, Dense, Dropout\n"
   ]
  },
  {
   "cell_type": "code",
   "execution_count": 11,
   "metadata": {},
   "outputs": [],
   "source": [
    "train_dir = 'data/train'\n",
    "test_dir = 'data/test'\n",
    "img_size = (100, 100)\n",
    "batch_size = 32\n",
    "epochs = 50"
   ]
  },
  {
   "cell_type": "code",
   "execution_count": 12,
   "metadata": {},
   "outputs": [],
   "source": [
    "train_datagen = ImageDataGenerator(rescale=1./255,\n",
    "                                   rotation_range=20,\n",
    "                                   width_shift_range=0.2,\n",
    "                                   height_shift_range=0.2,\n",
    "                                   shear_range=0.2,\n",
    "                                   zoom_range=0.2,\n",
    "                                   horizontal_flip=True,\n",
    "                                   fill_mode='nearest')\n",
    "\n",
    "test_datagen = ImageDataGenerator(rescale=1./255)\n"
   ]
  },
  {
   "cell_type": "code",
   "execution_count": 13,
   "metadata": {},
   "outputs": [
    {
     "name": "stdout",
     "output_type": "stream",
     "text": [
      "Found 502 images belonging to 6 classes.\n",
      "Found 188 images belonging to 6 classes.\n"
     ]
    }
   ],
   "source": [
    "train_generator = train_datagen.flow_from_directory(train_dir,\n",
    "                                                    target_size=img_size,\n",
    "                                                    batch_size=batch_size,\n",
    "                                                    class_mode='categorical')\n",
    "\n",
    "test_generator = test_datagen.flow_from_directory(test_dir,\n",
    "                                                  target_size=img_size,\n",
    "                                                  batch_size=batch_size,\n",
    "                                                  class_mode='categorical')\n"
   ]
  },
  {
   "cell_type": "code",
   "execution_count": 14,
   "metadata": {},
   "outputs": [
    {
     "name": "stdout",
     "output_type": "stream",
     "text": [
      "Model: \"sequential\"\n",
      "_________________________________________________________________\n",
      " Layer (type)                Output Shape              Param #   \n",
      "=================================================================\n",
      " conv2d (Conv2D)             (None, 98, 98, 32)        896       \n",
      "                                                                 \n",
      " max_pooling2d (MaxPooling2D  (None, 49, 49, 32)       0         \n",
      " )                                                               \n",
      "                                                                 \n",
      " conv2d_1 (Conv2D)           (None, 47, 47, 64)        18496     \n",
      "                                                                 \n",
      " max_pooling2d_1 (MaxPooling  (None, 23, 23, 64)       0         \n",
      " 2D)                                                             \n",
      "                                                                 \n",
      " flatten (Flatten)           (None, 33856)             0         \n",
      "                                                                 \n",
      " dense (Dense)               (None, 128)               4333696   \n",
      "                                                                 \n",
      " dropout (Dropout)           (None, 128)               0         \n",
      "                                                                 \n",
      " dense_1 (Dense)             (None, 6)                 774       \n",
      "                                                                 \n",
      "=================================================================\n",
      "Total params: 4,353,862\n",
      "Trainable params: 4,353,862\n",
      "Non-trainable params: 0\n",
      "_________________________________________________________________\n"
     ]
    }
   ],
   "source": [
    "model = Sequential()\n",
    "\n",
    "model.add(Conv2D(32, (3, 3), activation='relu', input_shape=(img_size[0], img_size[1], 3)))\n",
    "model.add(MaxPooling2D((2, 2)))\n",
    "\n",
    "model.add(Conv2D(64, (3, 3), activation='relu'))\n",
    "model.add(MaxPooling2D((2, 2)))\n",
    "\n",
    "model.add(Flatten())\n",
    "\n",
    "model.add(Dense(128, activation='relu'))\n",
    "model.add(Dropout(0.5))\n",
    "\n",
    "model.add(Dense(train_generator.num_classes, activation='softmax'))\n",
    "\n",
    "model.summary()\n"
   ]
  },
  {
   "cell_type": "code",
   "execution_count": 15,
   "metadata": {},
   "outputs": [
    {
     "name": "stdout",
     "output_type": "stream",
     "text": [
      "Epoch 1/50\n",
      "16/16 [==============================] - 5s 242ms/step - loss: 1.7271 - accuracy: 0.4363 - val_loss: 0.6956 - val_accuracy: 0.6170\n",
      "Epoch 2/50\n",
      "16/16 [==============================] - 5s 313ms/step - loss: 0.8067 - accuracy: 0.6892 - val_loss: 0.1977 - val_accuracy: 1.0000\n",
      "Epoch 3/50\n",
      "16/16 [==============================] - 5s 311ms/step - loss: 0.3978 - accuracy: 0.8645 - val_loss: 0.0269 - val_accuracy: 1.0000\n",
      "Epoch 4/50\n",
      "16/16 [==============================] - 5s 342ms/step - loss: 0.2510 - accuracy: 0.9163 - val_loss: 0.0230 - val_accuracy: 1.0000\n",
      "Epoch 5/50\n",
      "16/16 [==============================] - 5s 336ms/step - loss: 0.1662 - accuracy: 0.9542 - val_loss: 0.0101 - val_accuracy: 1.0000\n",
      "Epoch 6/50\n",
      "16/16 [==============================] - 6s 366ms/step - loss: 0.1421 - accuracy: 0.9602 - val_loss: 0.0053 - val_accuracy: 1.0000\n",
      "Epoch 7/50\n",
      "16/16 [==============================] - 6s 377ms/step - loss: 0.1113 - accuracy: 0.9721 - val_loss: 0.0041 - val_accuracy: 1.0000\n",
      "Epoch 8/50\n",
      "16/16 [==============================] - 7s 431ms/step - loss: 0.0664 - accuracy: 0.9841 - val_loss: 0.0034 - val_accuracy: 1.0000\n",
      "Epoch 9/50\n",
      "16/16 [==============================] - 7s 423ms/step - loss: 0.0735 - accuracy: 0.9741 - val_loss: 0.0019 - val_accuracy: 1.0000\n",
      "Epoch 10/50\n",
      "16/16 [==============================] - 7s 430ms/step - loss: 0.0518 - accuracy: 0.9940 - val_loss: 0.0021 - val_accuracy: 1.0000\n",
      "Epoch 11/50\n",
      "16/16 [==============================] - 8s 473ms/step - loss: 0.0686 - accuracy: 0.9761 - val_loss: 0.0034 - val_accuracy: 1.0000\n",
      "Epoch 12/50\n",
      "16/16 [==============================] - 6s 400ms/step - loss: 0.0550 - accuracy: 0.9900 - val_loss: 0.0013 - val_accuracy: 1.0000\n",
      "Epoch 13/50\n",
      "16/16 [==============================] - 6s 394ms/step - loss: 0.0603 - accuracy: 0.9880 - val_loss: 4.1919e-04 - val_accuracy: 1.0000\n",
      "Epoch 14/50\n",
      "16/16 [==============================] - 6s 390ms/step - loss: 0.0507 - accuracy: 0.9920 - val_loss: 4.3830e-04 - val_accuracy: 1.0000\n",
      "Epoch 15/50\n",
      "16/16 [==============================] - 6s 382ms/step - loss: 0.0630 - accuracy: 0.9761 - val_loss: 2.5085e-04 - val_accuracy: 1.0000\n",
      "Epoch 16/50\n",
      "16/16 [==============================] - 6s 381ms/step - loss: 0.0330 - accuracy: 0.9940 - val_loss: 2.9354e-04 - val_accuracy: 1.0000\n",
      "Epoch 17/50\n",
      "16/16 [==============================] - 6s 368ms/step - loss: 0.0458 - accuracy: 0.9861 - val_loss: 8.1271e-04 - val_accuracy: 1.0000\n",
      "Epoch 18/50\n",
      "16/16 [==============================] - 6s 364ms/step - loss: 0.0367 - accuracy: 0.9861 - val_loss: 0.0010 - val_accuracy: 1.0000\n",
      "Epoch 19/50\n",
      "16/16 [==============================] - 6s 376ms/step - loss: 0.0330 - accuracy: 0.9920 - val_loss: 7.4288e-05 - val_accuracy: 1.0000\n",
      "Epoch 20/50\n",
      "16/16 [==============================] - 7s 410ms/step - loss: 0.0382 - accuracy: 0.9841 - val_loss: 1.1929e-04 - val_accuracy: 1.0000\n",
      "Epoch 21/50\n",
      "16/16 [==============================] - 6s 372ms/step - loss: 0.0280 - accuracy: 0.9940 - val_loss: 4.2892e-04 - val_accuracy: 1.0000\n",
      "Epoch 22/50\n",
      "16/16 [==============================] - 6s 352ms/step - loss: 0.0179 - accuracy: 0.9960 - val_loss: 2.0812e-04 - val_accuracy: 1.0000\n",
      "Epoch 23/50\n",
      "16/16 [==============================] - 6s 359ms/step - loss: 0.0267 - accuracy: 0.9920 - val_loss: 1.5189e-04 - val_accuracy: 1.0000\n",
      "Epoch 24/50\n",
      "16/16 [==============================] - 6s 365ms/step - loss: 0.0163 - accuracy: 0.9940 - val_loss: 7.0172e-06 - val_accuracy: 1.0000\n",
      "Epoch 25/50\n",
      "16/16 [==============================] - 6s 366ms/step - loss: 0.0181 - accuracy: 0.9920 - val_loss: 1.1412e-04 - val_accuracy: 1.0000\n",
      "Epoch 26/50\n",
      "16/16 [==============================] - 6s 370ms/step - loss: 0.0107 - accuracy: 0.9980 - val_loss: 6.8755e-05 - val_accuracy: 1.0000\n",
      "Epoch 27/50\n",
      "16/16 [==============================] - 6s 375ms/step - loss: 0.0276 - accuracy: 0.9920 - val_loss: 3.5602e-05 - val_accuracy: 1.0000\n",
      "Epoch 28/50\n",
      "16/16 [==============================] - 6s 370ms/step - loss: 0.0156 - accuracy: 0.9980 - val_loss: 1.0407e-04 - val_accuracy: 1.0000\n",
      "Epoch 29/50\n",
      "16/16 [==============================] - 6s 378ms/step - loss: 0.0248 - accuracy: 0.9900 - val_loss: 1.4278e-05 - val_accuracy: 1.0000\n",
      "Epoch 30/50\n",
      "16/16 [==============================] - 6s 375ms/step - loss: 0.0253 - accuracy: 0.9900 - val_loss: 0.0012 - val_accuracy: 1.0000\n",
      "Epoch 31/50\n",
      "16/16 [==============================] - 6s 371ms/step - loss: 0.0192 - accuracy: 0.9940 - val_loss: 2.3554e-05 - val_accuracy: 1.0000\n",
      "Epoch 32/50\n",
      "16/16 [==============================] - 6s 368ms/step - loss: 0.0361 - accuracy: 0.9900 - val_loss: 6.7622e-05 - val_accuracy: 1.0000\n",
      "Epoch 33/50\n",
      "16/16 [==============================] - 6s 370ms/step - loss: 0.0200 - accuracy: 0.9960 - val_loss: 2.5645e-05 - val_accuracy: 1.0000\n",
      "Epoch 34/50\n",
      "16/16 [==============================] - 6s 381ms/step - loss: 0.0152 - accuracy: 0.9960 - val_loss: 1.0869e-05 - val_accuracy: 1.0000\n",
      "Epoch 35/50\n",
      "16/16 [==============================] - 6s 369ms/step - loss: 0.0094 - accuracy: 0.9980 - val_loss: 6.8142e-06 - val_accuracy: 1.0000\n",
      "Epoch 36/50\n",
      "16/16 [==============================] - 6s 375ms/step - loss: 0.0483 - accuracy: 0.9920 - val_loss: 2.4781e-05 - val_accuracy: 1.0000\n",
      "Epoch 37/50\n",
      "16/16 [==============================] - 6s 373ms/step - loss: 0.0428 - accuracy: 0.9900 - val_loss: 0.0036 - val_accuracy: 1.0000\n",
      "Epoch 38/50\n",
      "16/16 [==============================] - 6s 368ms/step - loss: 0.0349 - accuracy: 0.9861 - val_loss: 4.0240e-04 - val_accuracy: 1.0000\n",
      "Epoch 39/50\n",
      "16/16 [==============================] - 6s 390ms/step - loss: 0.0401 - accuracy: 0.9841 - val_loss: 1.2344e-04 - val_accuracy: 1.0000\n",
      "Epoch 40/50\n",
      "16/16 [==============================] - 6s 389ms/step - loss: 0.0248 - accuracy: 0.9920 - val_loss: 2.2603e-04 - val_accuracy: 1.0000\n",
      "Epoch 41/50\n",
      "16/16 [==============================] - 6s 402ms/step - loss: 0.0268 - accuracy: 0.9960 - val_loss: 9.1094e-06 - val_accuracy: 1.0000\n",
      "Epoch 42/50\n",
      "16/16 [==============================] - 6s 396ms/step - loss: 0.0192 - accuracy: 0.9920 - val_loss: 1.5685e-05 - val_accuracy: 1.0000\n",
      "Epoch 43/50\n",
      "16/16 [==============================] - 6s 395ms/step - loss: 0.0212 - accuracy: 0.9920 - val_loss: 1.4703e-05 - val_accuracy: 1.0000\n",
      "Epoch 44/50\n",
      "16/16 [==============================] - 6s 400ms/step - loss: 0.0210 - accuracy: 0.9940 - val_loss: 8.7327e-06 - val_accuracy: 1.0000\n",
      "Epoch 45/50\n",
      "16/16 [==============================] - 6s 398ms/step - loss: 0.0214 - accuracy: 0.9940 - val_loss: 9.4667e-05 - val_accuracy: 1.0000\n",
      "Epoch 46/50\n",
      "16/16 [==============================] - 6s 400ms/step - loss: 0.0195 - accuracy: 0.9940 - val_loss: 3.4372e-05 - val_accuracy: 1.0000\n",
      "Epoch 47/50\n",
      "16/16 [==============================] - 6s 403ms/step - loss: 0.0156 - accuracy: 0.9980 - val_loss: 4.9687e-06 - val_accuracy: 1.0000\n",
      "Epoch 48/50\n",
      "16/16 [==============================] - 6s 400ms/step - loss: 0.0403 - accuracy: 0.9861 - val_loss: 3.6195e-05 - val_accuracy: 1.0000\n",
      "Epoch 49/50\n",
      "16/16 [==============================] - 6s 397ms/step - loss: 0.0299 - accuracy: 0.9900 - val_loss: 0.0030 - val_accuracy: 1.0000\n",
      "Epoch 50/50\n",
      "16/16 [==============================] - 6s 399ms/step - loss: 0.2606 - accuracy: 0.9263 - val_loss: 0.0040 - val_accuracy: 1.0000\n"
     ]
    }
   ],
   "source": [
    "model.compile(optimizer='adam', loss='categorical_crossentropy', metrics=['accuracy'])\n",
    "\n",
    "history = model.fit(train_generator,\n",
    "                    epochs=epochs,\n",
    "                    validation_data=test_generator)\n"
   ]
  },
  {
   "cell_type": "code",
   "execution_count": 17,
   "metadata": {},
   "outputs": [],
   "source": [
    "import pickle\n",
    "\n",
    "# Assume that you have trained a machine learning model and stored it in a variable called 'model'\n",
    "\n",
    "# Set the path and filename for the saved model\n",
    "model_path = 'saved_models/'\n",
    "model_filename = 'my_model.pkl'\n",
    "\n",
    "# Serialize and save the model to disk\n",
    "with open(model_path + model_filename, 'wb') as file:\n",
    "    pickle.dump(model, file)\n"
   ]
  },
  {
   "cell_type": "code",
   "execution_count": 18,
   "metadata": {},
   "outputs": [],
   "source": [
    "import pickle\n",
    "\n",
    "# Set the path and filename for the saved model\n",
    "model_path = 'saved_models/'\n",
    "model_filename = 'my_model.pkl'\n",
    "\n",
    "# Load the saved model from disk\n",
    "with open(model_path + model_filename, 'rb') as file:\n",
    "    model = pickle.load(file)\n"
   ]
  }
 ],
 "metadata": {
  "kernelspec": {
   "display_name": "Python 3",
   "language": "python",
   "name": "python3"
  },
  "language_info": {
   "codemirror_mode": {
    "name": "ipython",
    "version": 3
   },
   "file_extension": ".py",
   "mimetype": "text/x-python",
   "name": "python",
   "nbconvert_exporter": "python",
   "pygments_lexer": "ipython3",
   "version": "3.10.5"
  },
  "orig_nbformat": 4
 },
 "nbformat": 4,
 "nbformat_minor": 2
}
