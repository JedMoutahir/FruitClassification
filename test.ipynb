{
 "cells": [
  {
   "attachments": {},
   "cell_type": "markdown",
   "metadata": {},
   "source": [
    "# Author: Jed MOUTAHIR\n",
    "# Date: 2023-03-28\n",
    "# Description: This is an attempt to create a machine learning model that can classify images of fruits."
   ]
  },
  {
   "cell_type": "code",
   "execution_count": 29,
   "metadata": {},
   "outputs": [],
   "source": [
    "import os\n",
    "import random\n",
    "import numpy as np\n",
    "import tensorflow as tf\n",
    "from tensorflow.keras.preprocessing.image import ImageDataGenerator\n",
    "from tensorflow.keras.models import Sequential\n",
    "from tensorflow.keras.layers import Conv2D, MaxPooling2D, Flatten, Dense, Dropout\n"
   ]
  },
  {
   "cell_type": "code",
   "execution_count": 30,
   "metadata": {},
   "outputs": [],
   "source": [
    "data_dir = 'data' # path to the directory containing all the fruit images\n",
    "img_size = (100, 100)\n",
    "batch_size = 32\n",
    "epochs = 50"
   ]
  },
  {
   "attachments": {},
   "cell_type": "markdown",
   "metadata": {},
   "source": [
    "Enable GPU training with CUDA"
   ]
  },
  {
   "cell_type": "code",
   "execution_count": 31,
   "metadata": {},
   "outputs": [],
   "source": [
    "physical_devices = tf.config.experimental.list_physical_devices('GPU')\n",
    "if len(physical_devices) > 0:\n",
    "    tf.config.experimental.set_memory_growth(physical_devices[0], True)"
   ]
  },
  {
   "attachments": {},
   "cell_type": "markdown",
   "metadata": {},
   "source": [
    "Define the ImageDataGenerator to preprocess and augment the image data"
   ]
  },
  {
   "cell_type": "code",
   "execution_count": 32,
   "metadata": {},
   "outputs": [],
   "source": [
    "datagen = ImageDataGenerator(rescale=1./255,\n",
    "                             rotation_range=20,\n",
    "                             width_shift_range=0.2,\n",
    "                             height_shift_range=0.2,\n",
    "                             shear_range=0.2,\n",
    "                             zoom_range=0.2,\n",
    "                             horizontal_flip=True,\n",
    "                             fill_mode='nearest')"
   ]
  },
  {
   "attachments": {},
   "cell_type": "markdown",
   "metadata": {},
   "source": [
    "Use the flow_from_directory method to load the data from the directory"
   ]
  },
  {
   "cell_type": "code",
   "execution_count": 33,
   "metadata": {},
   "outputs": [
    {
     "name": "stdout",
     "output_type": "stream",
     "text": [
      "Found 527 images belonging to 6 classes.\n"
     ]
    }
   ],
   "source": [
    "generator = datagen.flow_from_directory(data_dir,\n",
    "                                        target_size=img_size,\n",
    "                                        batch_size=batch_size,\n",
    "                                        class_mode='categorical',\n",
    "                                        shuffle=True)"
   ]
  },
  {
   "attachments": {},
   "cell_type": "markdown",
   "metadata": {},
   "source": [
    "Define the architecture of the deep learning model"
   ]
  },
  {
   "cell_type": "code",
   "execution_count": 34,
   "metadata": {},
   "outputs": [
    {
     "name": "stdout",
     "output_type": "stream",
     "text": [
      "Model: \"sequential_3\"\n",
      "_________________________________________________________________\n",
      " Layer (type)                Output Shape              Param #   \n",
      "=================================================================\n",
      " conv2d_6 (Conv2D)           (None, 98, 98, 32)        896       \n",
      "                                                                 \n",
      " max_pooling2d_6 (MaxPooling  (None, 49, 49, 32)       0         \n",
      " 2D)                                                             \n",
      "                                                                 \n",
      " conv2d_7 (Conv2D)           (None, 47, 47, 64)        18496     \n",
      "                                                                 \n",
      " max_pooling2d_7 (MaxPooling  (None, 23, 23, 64)       0         \n",
      " 2D)                                                             \n",
      "                                                                 \n",
      " flatten_3 (Flatten)         (None, 33856)             0         \n",
      "                                                                 \n",
      " dense_6 (Dense)             (None, 128)               4333696   \n",
      "                                                                 \n",
      " dropout_3 (Dropout)         (None, 128)               0         \n",
      "                                                                 \n",
      " dense_7 (Dense)             (None, 6)                 774       \n",
      "                                                                 \n",
      "=================================================================\n",
      "Total params: 4,353,862\n",
      "Trainable params: 4,353,862\n",
      "Non-trainable params: 0\n",
      "_________________________________________________________________\n"
     ]
    }
   ],
   "source": [
    "model = Sequential()\n",
    "\n",
    "model.add(Conv2D(32, (3, 3), activation='relu', input_shape=(img_size[0], img_size[1], 3)))\n",
    "model.add(MaxPooling2D((2, 2)))\n",
    "\n",
    "model.add(Conv2D(64, (3, 3), activation='relu'))\n",
    "model.add(MaxPooling2D((2, 2)))\n",
    "\n",
    "model.add(Flatten())\n",
    "\n",
    "model.add(Dense(128, activation='relu'))\n",
    "model.add(Dropout(0.5))\n",
    "\n",
    "model.add(Dense(generator.num_classes, activation='softmax'))\n",
    "\n",
    "model.summary()\n"
   ]
  },
  {
   "attachments": {},
   "cell_type": "markdown",
   "metadata": {},
   "source": [
    "Compile and train the model"
   ]
  },
  {
   "cell_type": "code",
   "execution_count": 35,
   "metadata": {},
   "outputs": [
    {
     "name": "stdout",
     "output_type": "stream",
     "text": [
      "Epoch 1/50\n",
      "17/17 [==============================] - 4s 229ms/step - loss: 1.8498 - accuracy: 0.3567\n",
      "Epoch 2/50\n",
      "17/17 [==============================] - 4s 219ms/step - loss: 0.9760 - accuracy: 0.6224\n",
      "Epoch 3/50\n",
      "17/17 [==============================] - 4s 216ms/step - loss: 0.5258 - accuracy: 0.8027\n",
      "Epoch 4/50\n",
      "17/17 [==============================] - 4s 219ms/step - loss: 0.3777 - accuracy: 0.8710\n",
      "Epoch 5/50\n",
      "17/17 [==============================] - 4s 218ms/step - loss: 0.2874 - accuracy: 0.9184\n",
      "Epoch 6/50\n",
      "17/17 [==============================] - 4s 222ms/step - loss: 0.1772 - accuracy: 0.9583\n",
      "Epoch 7/50\n",
      "17/17 [==============================] - 4s 234ms/step - loss: 0.1639 - accuracy: 0.9526\n",
      "Epoch 8/50\n",
      "17/17 [==============================] - 5s 309ms/step - loss: 0.1268 - accuracy: 0.9677\n",
      "Epoch 9/50\n",
      "17/17 [==============================] - 5s 304ms/step - loss: 0.1036 - accuracy: 0.9734\n",
      "Epoch 10/50\n",
      "17/17 [==============================] - 5s 319ms/step - loss: 0.0703 - accuracy: 0.9829\n",
      "Epoch 11/50\n",
      "17/17 [==============================] - 6s 337ms/step - loss: 0.0816 - accuracy: 0.9715\n",
      "Epoch 12/50\n",
      "17/17 [==============================] - 5s 297ms/step - loss: 0.0630 - accuracy: 0.9791\n",
      "Epoch 13/50\n",
      "17/17 [==============================] - 5s 316ms/step - loss: 0.0962 - accuracy: 0.9639\n",
      "Epoch 14/50\n",
      "17/17 [==============================] - 6s 323ms/step - loss: 0.0875 - accuracy: 0.9677\n",
      "Epoch 15/50\n",
      "17/17 [==============================] - 5s 313ms/step - loss: 0.0637 - accuracy: 0.9772\n",
      "Epoch 16/50\n",
      "17/17 [==============================] - 5s 316ms/step - loss: 0.0715 - accuracy: 0.9810\n",
      "Epoch 17/50\n",
      "17/17 [==============================] - 6s 334ms/step - loss: 0.0354 - accuracy: 0.9924\n",
      "Epoch 18/50\n",
      "17/17 [==============================] - 6s 327ms/step - loss: 0.0442 - accuracy: 0.9810\n",
      "Epoch 19/50\n",
      "17/17 [==============================] - 6s 364ms/step - loss: 0.0492 - accuracy: 0.9791\n",
      "Epoch 20/50\n",
      "17/17 [==============================] - 6s 361ms/step - loss: 0.0635 - accuracy: 0.9829\n",
      "Epoch 21/50\n",
      "17/17 [==============================] - 7s 377ms/step - loss: 0.0622 - accuracy: 0.9791\n",
      "Epoch 22/50\n",
      "17/17 [==============================] - 6s 376ms/step - loss: 0.0399 - accuracy: 0.9810\n",
      "Epoch 23/50\n",
      "17/17 [==============================] - 6s 333ms/step - loss: 0.0553 - accuracy: 0.9867\n",
      "Epoch 24/50\n",
      "17/17 [==============================] - 6s 341ms/step - loss: 0.0662 - accuracy: 0.9791\n",
      "Epoch 25/50\n",
      "17/17 [==============================] - 6s 349ms/step - loss: 0.0310 - accuracy: 0.9886\n",
      "Epoch 26/50\n",
      "17/17 [==============================] - 6s 362ms/step - loss: 0.0508 - accuracy: 0.9867\n",
      "Epoch 27/50\n",
      "17/17 [==============================] - 6s 352ms/step - loss: 0.0489 - accuracy: 0.9829\n",
      "Epoch 28/50\n",
      "17/17 [==============================] - 6s 358ms/step - loss: 0.0384 - accuracy: 0.9867\n",
      "Epoch 29/50\n",
      "17/17 [==============================] - 6s 358ms/step - loss: 0.0166 - accuracy: 0.9981\n",
      "Epoch 30/50\n",
      "17/17 [==============================] - 7s 387ms/step - loss: 0.0294 - accuracy: 0.9867\n",
      "Epoch 31/50\n",
      "17/17 [==============================] - 6s 337ms/step - loss: 0.0147 - accuracy: 0.9962\n",
      "Epoch 32/50\n",
      "17/17 [==============================] - 5s 312ms/step - loss: 0.0413 - accuracy: 0.9905\n",
      "Epoch 33/50\n",
      "17/17 [==============================] - 6s 322ms/step - loss: 0.0566 - accuracy: 0.9810\n",
      "Epoch 34/50\n",
      "17/17 [==============================] - 6s 321ms/step - loss: 0.0353 - accuracy: 0.9867\n",
      "Epoch 35/50\n",
      "17/17 [==============================] - 4s 228ms/step - loss: 0.0301 - accuracy: 0.9886\n",
      "Epoch 36/50\n",
      "17/17 [==============================] - 4s 221ms/step - loss: 0.0323 - accuracy: 0.9867\n",
      "Epoch 37/50\n",
      "17/17 [==============================] - 4s 224ms/step - loss: 0.0485 - accuracy: 0.9791\n",
      "Epoch 38/50\n",
      "17/17 [==============================] - 4s 219ms/step - loss: 0.0307 - accuracy: 0.9943\n",
      "Epoch 39/50\n",
      "17/17 [==============================] - 4s 225ms/step - loss: 0.0780 - accuracy: 0.9696\n",
      "Epoch 40/50\n",
      "17/17 [==============================] - 4s 218ms/step - loss: 0.0479 - accuracy: 0.9905\n",
      "Epoch 41/50\n",
      "17/17 [==============================] - 4s 217ms/step - loss: 0.0430 - accuracy: 0.9867\n",
      "Epoch 42/50\n",
      "17/17 [==============================] - 4s 220ms/step - loss: 0.0321 - accuracy: 0.9829\n",
      "Epoch 43/50\n",
      "17/17 [==============================] - 4s 221ms/step - loss: 0.0344 - accuracy: 0.9848\n",
      "Epoch 44/50\n",
      "17/17 [==============================] - 4s 221ms/step - loss: 0.0285 - accuracy: 0.9886\n",
      "Epoch 45/50\n",
      "17/17 [==============================] - 4s 222ms/step - loss: 0.0232 - accuracy: 0.9943\n",
      "Epoch 46/50\n",
      "17/17 [==============================] - 4s 218ms/step - loss: 0.0155 - accuracy: 0.9962\n",
      "Epoch 47/50\n",
      "17/17 [==============================] - 4s 216ms/step - loss: 0.0335 - accuracy: 0.9905\n",
      "Epoch 48/50\n",
      "17/17 [==============================] - 4s 226ms/step - loss: 0.0143 - accuracy: 0.9962\n",
      "Epoch 49/50\n",
      "17/17 [==============================] - 4s 217ms/step - loss: 0.0369 - accuracy: 0.9962\n",
      "Epoch 50/50\n",
      "17/17 [==============================] - 4s 219ms/step - loss: 0.0166 - accuracy: 0.9981\n"
     ]
    }
   ],
   "source": [
    "model.compile(optimizer='adam', loss='categorical_crossentropy', metrics=['accuracy'])\n",
    "\n",
    "history = model.fit(generator,\n",
    "                    epochs=epochs)"
   ]
  },
  {
   "cell_type": "code",
   "execution_count": 36,
   "metadata": {},
   "outputs": [],
   "source": [
    "import pickle\n",
    "\n",
    "# Assume that you have trained a machine learning model and stored it in a variable called 'model'\n",
    "\n",
    "# Set the path and filename for the saved model\n",
    "model_path = 'saved_models/'\n",
    "model_filename = 'my_model.pkl'\n",
    "\n",
    "# Serialize and save the model to disk\n",
    "with open(model_path + model_filename, 'wb') as file:\n",
    "    pickle.dump(model, file)\n"
   ]
  },
  {
   "cell_type": "code",
   "execution_count": 37,
   "metadata": {},
   "outputs": [],
   "source": [
    "import pickle\n",
    "\n",
    "# Set the path and filename for the saved model\n",
    "model_path = 'saved_models/'\n",
    "model_filename = 'my_model.pkl'\n",
    "\n",
    "# Load the saved model from disk\n",
    "with open(model_path + model_filename, 'rb') as file:\n",
    "    model = pickle.load(file)\n"
   ]
  }
 ],
 "metadata": {
  "kernelspec": {
   "display_name": "Python 3",
   "language": "python",
   "name": "python3"
  },
  "language_info": {
   "codemirror_mode": {
    "name": "ipython",
    "version": 3
   },
   "file_extension": ".py",
   "mimetype": "text/x-python",
   "name": "python",
   "nbconvert_exporter": "python",
   "pygments_lexer": "ipython3",
   "version": "3.8.3"
  },
  "orig_nbformat": 4
 },
 "nbformat": 4,
 "nbformat_minor": 2
}
